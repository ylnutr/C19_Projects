{
  "cells": [
    {
      "cell_type": "markdown",
      "metadata": {
        "id": "view-in-github",
        "colab_type": "text"
      },
      "source": [
        "<a href=\"https://colab.research.google.com/github/ylnutr/C19b-Projects/blob/main/TrajectoryAnalysisTutorial_GitHub.ipynb\" target=\"_parent\"><img src=\"https://colab.research.google.com/assets/colab-badge.svg\" alt=\"Open In Colab\"/></a>"
      ]
    },
    {
      "cell_type": "markdown",
      "id": "1dc3bd23",
      "metadata": {
        "id": "1dc3bd23"
      },
      "source": [
        "# Trajectory Analysis using 10x Single Cell Gene Expression Data\n",
        "More details on this analysis can be found in the 10x Genomics Analysis Guides tutorial, located here: https://www.10xgenomics.com/resources/analysis-guides/trajectory-analysis-using-10x-Genomics-single-cell-gene-expression-data"
      ]
    },
    {
      "cell_type": "markdown",
      "id": "1e026de3",
      "metadata": {
        "id": "1e026de3"
      },
      "source": [
        "Updated: March 14, 2025"
      ]
    },
    {
      "cell_type": "markdown",
      "id": "79da6e17",
      "metadata": {
        "id": "79da6e17"
      },
      "source": [
        "This will install the required Python library packages needed for this tutorial:"
      ]
    },
    {
      "cell_type": "code",
      "execution_count": null,
      "id": "346184d0",
      "metadata": {
        "id": "346184d0",
        "outputId": "3b35d164-9999-4580-ddb8-3e537afc6c60",
        "colab": {
          "base_uri": "https://localhost:8080/"
        }
      },
      "outputs": [
        {
          "output_type": "stream",
          "name": "stdout",
          "text": [
            "Collecting numpy==1.23.2\n",
            "  Downloading numpy-1.23.2-cp311-cp311-manylinux_2_17_x86_64.manylinux2014_x86_64.whl.metadata (2.2 kB)\n",
            "Collecting pandas==1.5.3\n",
            "  Downloading pandas-1.5.3-cp311-cp311-manylinux_2_17_x86_64.manylinux2014_x86_64.whl.metadata (11 kB)\n",
            "Collecting matplotlib==3.6.0\n",
            "  Downloading matplotlib-3.6.0-cp311-cp311-manylinux_2_17_x86_64.manylinux2014_x86_64.whl.metadata (6.8 kB)\n",
            "Collecting scanpy==1.9.1\n",
            "  Downloading scanpy-1.9.1-py3-none-any.whl.metadata (5.5 kB)\n",
            "Collecting igraph==0.9.8\n",
            "  Downloading igraph-0.9.8.tar.gz (3.6 MB)\n",
            "\u001b[2K     \u001b[90m━━━━━━━━━━━━━━━━━━━━━━━━━━━━━━━━━━━━━━━━\u001b[0m \u001b[32m3.6/3.6 MB\u001b[0m \u001b[31m35.5 MB/s\u001b[0m eta \u001b[36m0:00:00\u001b[0m\n",
            "\u001b[?25h  Preparing metadata (setup.py) ... \u001b[?25l\u001b[?25hdone\n",
            "Collecting scvelo==0.2.4\n",
            "  Downloading scvelo-0.2.4-py3-none-any.whl.metadata (6.5 kB)\n",
            "Collecting loompy==3.0.6\n",
            "  Downloading loompy-3.0.6.tar.gz (41 kB)\n",
            "\u001b[2K     \u001b[90m━━━━━━━━━━━━━━━━━━━━━━━━━━━━━━━━━━━━━━━━\u001b[0m \u001b[32m41.1/41.1 kB\u001b[0m \u001b[31m2.9 MB/s\u001b[0m eta \u001b[36m0:00:00\u001b[0m\n",
            "\u001b[?25h  Preparing metadata (setup.py) ... \u001b[?25l\u001b[?25hdone\n",
            "Collecting anndata==0.8.0\n",
            "  Downloading anndata-0.8.0-py3-none-any.whl.metadata (4.6 kB)\n",
            "Requirement already satisfied: python-dateutil>=2.8.1 in /usr/local/lib/python3.11/dist-packages (from pandas==1.5.3) (2.9.0.post0)\n",
            "Requirement already satisfied: pytz>=2020.1 in /usr/local/lib/python3.11/dist-packages (from pandas==1.5.3) (2025.2)\n",
            "Requirement already satisfied: contourpy>=1.0.1 in /usr/local/lib/python3.11/dist-packages (from matplotlib==3.6.0) (1.3.2)\n",
            "Requirement already satisfied: cycler>=0.10 in /usr/local/lib/python3.11/dist-packages (from matplotlib==3.6.0) (0.12.1)\n",
            "Requirement already satisfied: fonttools>=4.22.0 in /usr/local/lib/python3.11/dist-packages (from matplotlib==3.6.0) (4.58.4)\n",
            "Requirement already satisfied: kiwisolver>=1.0.1 in /usr/local/lib/python3.11/dist-packages (from matplotlib==3.6.0) (1.4.8)\n",
            "Requirement already satisfied: packaging>=20.0 in /usr/local/lib/python3.11/dist-packages (from matplotlib==3.6.0) (24.2)\n",
            "Requirement already satisfied: pillow>=6.2.0 in /usr/local/lib/python3.11/dist-packages (from matplotlib==3.6.0) (11.2.1)\n",
            "Requirement already satisfied: pyparsing>=2.2.1 in /usr/local/lib/python3.11/dist-packages (from matplotlib==3.6.0) (3.2.3)\n",
            "Requirement already satisfied: scipy>=1.4 in /usr/local/lib/python3.11/dist-packages (from scanpy==1.9.1) (1.15.3)\n",
            "Requirement already satisfied: seaborn in /usr/local/lib/python3.11/dist-packages (from scanpy==1.9.1) (0.13.2)\n",
            "Requirement already satisfied: h5py>=3 in /usr/local/lib/python3.11/dist-packages (from scanpy==1.9.1) (3.14.0)\n",
            "Requirement already satisfied: tqdm in /usr/local/lib/python3.11/dist-packages (from scanpy==1.9.1) (4.67.1)\n",
            "Requirement already satisfied: scikit-learn>=0.22 in /usr/local/lib/python3.11/dist-packages (from scanpy==1.9.1) (1.6.1)\n",
            "Requirement already satisfied: statsmodels>=0.10.0rc2 in /usr/local/lib/python3.11/dist-packages (from scanpy==1.9.1) (0.14.4)\n",
            "Requirement already satisfied: patsy in /usr/local/lib/python3.11/dist-packages (from scanpy==1.9.1) (1.0.1)\n",
            "Requirement already satisfied: networkx>=2.3 in /usr/local/lib/python3.11/dist-packages (from scanpy==1.9.1) (3.5)\n",
            "Requirement already satisfied: natsort in /usr/local/lib/python3.11/dist-packages (from scanpy==1.9.1) (8.4.0)\n",
            "Requirement already satisfied: joblib in /usr/local/lib/python3.11/dist-packages (from scanpy==1.9.1) (1.5.1)\n",
            "Requirement already satisfied: numba>=0.41.0 in /usr/local/lib/python3.11/dist-packages (from scanpy==1.9.1) (0.60.0)\n",
            "Requirement already satisfied: umap-learn>=0.3.10 in /usr/local/lib/python3.11/dist-packages (from scanpy==1.9.1) (0.5.7)\n",
            "Collecting session-info (from scanpy==1.9.1)\n",
            "  Downloading session_info-1.0.1-py3-none-any.whl.metadata (5.1 kB)\n",
            "Collecting texttable>=1.6.2 (from igraph==0.9.8)\n",
            "  Downloading texttable-1.7.0-py2.py3-none-any.whl.metadata (9.8 kB)\n",
            "Requirement already satisfied: typing-extensions in /usr/local/lib/python3.11/dist-packages (from scvelo==0.2.4) (4.14.0)\n",
            "Requirement already satisfied: setuptools in /usr/local/lib/python3.11/dist-packages (from loompy==3.0.6) (75.2.0)\n",
            "Requirement already satisfied: click in /usr/local/lib/python3.11/dist-packages (from loompy==3.0.6) (8.2.1)\n",
            "Collecting numpy-groupies (from loompy==3.0.6)\n",
            "  Downloading numpy_groupies-0.11.3-py3-none-any.whl.metadata (18 kB)\n",
            "Requirement already satisfied: llvmlite<0.44,>=0.43.0dev0 in /usr/local/lib/python3.11/dist-packages (from numba>=0.41.0->scanpy==1.9.1) (0.43.0)\n",
            "Requirement already satisfied: six>=1.5 in /usr/local/lib/python3.11/dist-packages (from python-dateutil>=2.8.1->pandas==1.5.3) (1.17.0)\n",
            "Requirement already satisfied: threadpoolctl>=3.1.0 in /usr/local/lib/python3.11/dist-packages (from scikit-learn>=0.22->scanpy==1.9.1) (3.6.0)\n",
            "INFO: pip is looking at multiple versions of scipy to determine which version is compatible with other requirements. This could take a while.\n",
            "Collecting scipy>=1.4 (from scanpy==1.9.1)\n",
            "  Downloading scipy-1.16.0-cp311-cp311-manylinux2014_x86_64.manylinux_2_17_x86_64.whl.metadata (61 kB)\n",
            "\u001b[2K     \u001b[90m━━━━━━━━━━━━━━━━━━━━━━━━━━━━━━━━━━━━━━━━\u001b[0m \u001b[32m61.9/61.9 kB\u001b[0m \u001b[31m5.0 MB/s\u001b[0m eta \u001b[36m0:00:00\u001b[0m\n",
            "\u001b[?25h  Downloading scipy-1.15.2-cp311-cp311-manylinux_2_17_x86_64.manylinux2014_x86_64.whl.metadata (61 kB)\n",
            "\u001b[2K     \u001b[90m━━━━━━━━━━━━━━━━━━━━━━━━━━━━━━━━━━━━━━━━\u001b[0m \u001b[32m62.0/62.0 kB\u001b[0m \u001b[31m5.2 MB/s\u001b[0m eta \u001b[36m0:00:00\u001b[0m\n",
            "\u001b[?25h  Downloading scipy-1.15.1-cp311-cp311-manylinux_2_17_x86_64.manylinux2014_x86_64.whl.metadata (61 kB)\n",
            "\u001b[2K     \u001b[90m━━━━━━━━━━━━━━━━━━━━━━━━━━━━━━━━━━━━━━━━\u001b[0m \u001b[32m62.0/62.0 kB\u001b[0m \u001b[31m5.2 MB/s\u001b[0m eta \u001b[36m0:00:00\u001b[0m\n",
            "\u001b[?25h  Downloading scipy-1.15.0-cp311-cp311-manylinux_2_17_x86_64.manylinux2014_x86_64.whl.metadata (61 kB)\n",
            "\u001b[2K     \u001b[90m━━━━━━━━━━━━━━━━━━━━━━━━━━━━━━━━━━━━━━━━\u001b[0m \u001b[32m62.0/62.0 kB\u001b[0m \u001b[31m5.4 MB/s\u001b[0m eta \u001b[36m0:00:00\u001b[0m\n",
            "\u001b[?25h  Downloading scipy-1.14.1-cp311-cp311-manylinux_2_17_x86_64.manylinux2014_x86_64.whl.metadata (60 kB)\n",
            "\u001b[2K     \u001b[90m━━━━━━━━━━━━━━━━━━━━━━━━━━━━━━━━━━━━━━━━\u001b[0m \u001b[32m60.8/60.8 kB\u001b[0m \u001b[31m5.1 MB/s\u001b[0m eta \u001b[36m0:00:00\u001b[0m\n",
            "\u001b[?25h  Downloading scipy-1.14.0-cp311-cp311-manylinux_2_17_x86_64.manylinux2014_x86_64.whl.metadata (60 kB)\n",
            "\u001b[2K     \u001b[90m━━━━━━━━━━━━━━━━━━━━━━━━━━━━━━━━━━━━━━━━\u001b[0m \u001b[32m60.8/60.8 kB\u001b[0m \u001b[31m4.9 MB/s\u001b[0m eta \u001b[36m0:00:00\u001b[0m\n",
            "\u001b[?25h  Downloading scipy-1.13.1-cp311-cp311-manylinux_2_17_x86_64.manylinux2014_x86_64.whl.metadata (60 kB)\n",
            "\u001b[2K     \u001b[90m━━━━━━━━━━━━━━━━━━━━━━━━━━━━━━━━━━━━━━━━\u001b[0m \u001b[32m60.6/60.6 kB\u001b[0m \u001b[31m4.7 MB/s\u001b[0m eta \u001b[36m0:00:00\u001b[0m\n",
            "\u001b[?25hRequirement already satisfied: pynndescent>=0.5 in /usr/local/lib/python3.11/dist-packages (from umap-learn>=0.3.10->scanpy==1.9.1) (0.5.13)\n",
            "Collecting stdlib_list (from session-info->scanpy==1.9.1)\n",
            "  Downloading stdlib_list-0.11.1-py3-none-any.whl.metadata (3.3 kB)\n",
            "Downloading numpy-1.23.2-cp311-cp311-manylinux_2_17_x86_64.manylinux2014_x86_64.whl (17.0 MB)\n",
            "\u001b[2K   \u001b[90m━━━━━━━━━━━━━━━━━━━━━━━━━━━━━━━━━━━━━━━━\u001b[0m \u001b[32m17.0/17.0 MB\u001b[0m \u001b[31m99.7 MB/s\u001b[0m eta \u001b[36m0:00:00\u001b[0m\n",
            "\u001b[?25hDownloading pandas-1.5.3-cp311-cp311-manylinux_2_17_x86_64.manylinux2014_x86_64.whl (12.0 MB)\n",
            "\u001b[2K   \u001b[90m━━━━━━━━━━━━━━━━━━━━━━━━━━━━━━━━━━━━━━━━\u001b[0m \u001b[32m12.0/12.0 MB\u001b[0m \u001b[31m103.8 MB/s\u001b[0m eta \u001b[36m0:00:00\u001b[0m\n",
            "\u001b[?25hDownloading matplotlib-3.6.0-cp311-cp311-manylinux_2_17_x86_64.manylinux2014_x86_64.whl (11.8 MB)\n",
            "\u001b[2K   \u001b[90m━━━━━━━━━━━━━━━━━━━━━━━━━━━━━━━━━━━━━━━━\u001b[0m \u001b[32m11.8/11.8 MB\u001b[0m \u001b[31m110.6 MB/s\u001b[0m eta \u001b[36m0:00:00\u001b[0m\n",
            "\u001b[?25hDownloading scanpy-1.9.1-py3-none-any.whl (2.0 MB)\n",
            "\u001b[2K   \u001b[90m━━━━━━━━━━━━━━━━━━━━━━━━━━━━━━━━━━━━━━━━\u001b[0m \u001b[32m2.0/2.0 MB\u001b[0m \u001b[31m76.7 MB/s\u001b[0m eta \u001b[36m0:00:00\u001b[0m\n",
            "\u001b[?25hDownloading scvelo-0.2.4-py3-none-any.whl (196 kB)\n",
            "\u001b[2K   \u001b[90m━━━━━━━━━━━━━━━━━━━━━━━━━━━━━━━━━━━━━━━━\u001b[0m \u001b[32m196.3/196.3 kB\u001b[0m \u001b[31m18.6 MB/s\u001b[0m eta \u001b[36m0:00:00\u001b[0m\n",
            "\u001b[?25hDownloading anndata-0.8.0-py3-none-any.whl (96 kB)\n",
            "\u001b[2K   \u001b[90m━━━━━━━━━━━━━━━━━━━━━━━━━━━━━━━━━━━━━━━━\u001b[0m \u001b[32m96.1/96.1 kB\u001b[0m \u001b[31m7.9 MB/s\u001b[0m eta \u001b[36m0:00:00\u001b[0m\n",
            "\u001b[?25hDownloading scipy-1.13.1-cp311-cp311-manylinux_2_17_x86_64.manylinux2014_x86_64.whl (38.6 MB)\n",
            "\u001b[2K   \u001b[90m━━━━━━━━━━━━━━━━━━━━━━━━━━━━━━━━━━━━━━━━\u001b[0m \u001b[32m38.6/38.6 MB\u001b[0m \u001b[31m13.1 MB/s\u001b[0m eta \u001b[36m0:00:00\u001b[0m\n",
            "\u001b[?25hDownloading texttable-1.7.0-py2.py3-none-any.whl (10 kB)\n",
            "Downloading numpy_groupies-0.11.3-py3-none-any.whl (40 kB)\n",
            "\u001b[2K   \u001b[90m━━━━━━━━━━━━━━━━━━━━━━━━━━━━━━━━━━━━━━━━\u001b[0m \u001b[32m40.8/40.8 kB\u001b[0m \u001b[31m3.5 MB/s\u001b[0m eta \u001b[36m0:00:00\u001b[0m\n",
            "\u001b[?25hDownloading session_info-1.0.1-py3-none-any.whl (9.1 kB)\n",
            "Downloading stdlib_list-0.11.1-py3-none-any.whl (83 kB)\n",
            "\u001b[2K   \u001b[90m━━━━━━━━━━━━━━━━━━━━━━━━━━━━━━━━━━━━━━━━\u001b[0m \u001b[32m83.6/83.6 kB\u001b[0m \u001b[31m7.5 MB/s\u001b[0m eta \u001b[36m0:00:00\u001b[0m\n",
            "\u001b[?25hBuilding wheels for collected packages: igraph, loompy\n"
          ]
        }
      ],
      "source": [
        "!pip install numpy==1.23.2 pandas==1.5.3 matplotlib==3.6.0 scanpy==1.9.1 igraph==0.9.8 scvelo==0.2.4 loompy==3.0.6 anndata==0.8.0"
      ]
    },
    {
      "cell_type": "markdown",
      "id": "b1c03f27",
      "metadata": {
        "id": "b1c03f27"
      },
      "source": [
        "This will create a new directory called \"input-files\", then download and extract several input data files needed for this tutorial, then display the list of files now available."
      ]
    },
    {
      "cell_type": "code",
      "execution_count": null,
      "id": "833d83cc",
      "metadata": {
        "id": "833d83cc"
      },
      "outputs": [],
      "source": [
        "!mkdir input-files\n",
        "!curl -o input-files/filtered_feature_bc_matrix.tar.gz https://cf.10xgenomics.com/supp/cell-exp/neutrophils/filtered_feature_bc_matrix.tar.gz\n",
        "!curl -o input-files/WB_Lysis_3p_Introns_8kCells.loom https://cf.10xgenomics.com/supp/cell-exp/neutrophils/WB_Lysis_3p_Introns_8kCells.loom\n",
        "!curl -o input-files/3p-Neutrophils-clusters.csv https://cf.10xgenomics.com/supp/cell-exp/neutrophils/3p-Neutrophils-clusters.csv\n",
        "!curl -o input-files/3p-Neutrophils-UMAP-Projection.csv https://cf.10xgenomics.com/supp/cell-exp/neutrophils/3p-Neutrophils-UMAP-Projection.csv\n",
        "!tar -xvzf input-files/filtered_feature_bc_matrix.tar.gz -C input-files/\n",
        "!ls -lah input-files"
      ]
    },
    {
      "cell_type": "code",
      "execution_count": null,
      "id": "b605db86",
      "metadata": {
        "id": "b605db86"
      },
      "outputs": [],
      "source": [
        "# First, import required packages in the current session.\n",
        "\n",
        "import numpy as np\n",
        "import pandas as pd\n",
        "import matplotlib.pyplot as pl\n",
        "import scanpy as sc\n",
        "import igraph\n",
        "import scvelo as scv\n",
        "import loompy as lmp\n",
        "import anndata\n",
        "\n",
        "import warnings\n",
        "warnings.filterwarnings('ignore')"
      ]
    },
    {
      "cell_type": "markdown",
      "id": "cb39697d",
      "metadata": {
        "id": "cb39697d"
      },
      "source": [
        "* The scvelo tool only calculates velocity\n",
        "* Now we need anchors for visualization\n",
        "* UMAP gives us projections\n",
        "* barcode assignments are associated with different clusters\n",
        "* UMAP + clusters come from Loupe\n",
        "\n",
        "Let's import the 2 files from Loupe."
      ]
    },
    {
      "cell_type": "code",
      "execution_count": null,
      "id": "8a0ba395",
      "metadata": {
        "id": "8a0ba395"
      },
      "outputs": [],
      "source": [
        "# Read in the subset of clusters exported from Loupe Browser\n",
        "Clusters_Loupe = pd.read_csv(\"./input-files/3p-Neutrophils-clusters.csv\", delimiter=',',index_col=0)\n",
        "\n",
        "# Create list with only Neutrophil Barcodes\n",
        "# This will be used later to subset the count matrix\n",
        "Neutrophils_BCs = Clusters_Loupe.index"
      ]
    },
    {
      "cell_type": "code",
      "execution_count": null,
      "id": "e8c259db",
      "metadata": {
        "id": "e8c259db"
      },
      "outputs": [],
      "source": [
        "# Read UMAP exported from Loupe Browser\n",
        "UMAP_Loupe = pd.read_csv(\"./input-files/3p-Neutrophils-UMAP-Projection.csv\", delimiter=',',index_col=0)\n",
        "\n",
        "# Tansform to Numpy (for formatting)\n",
        "UMAP_Loupe = UMAP_Loupe.to_numpy()"
      ]
    },
    {
      "cell_type": "markdown",
      "id": "c88d565a",
      "metadata": {
        "id": "c88d565a"
      },
      "source": [
        "Now we will import the GEX matrix.\n",
        "\n"
      ]
    },
    {
      "cell_type": "code",
      "execution_count": null,
      "id": "1eb7f657",
      "metadata": {
        "scrolled": true,
        "id": "1eb7f657"
      },
      "outputs": [],
      "source": [
        "# Define Path to cellranger output\n",
        "Path10x='./input-files/filtered_feature_bc_matrix/'\n",
        "\n",
        "# Read filtered feature bc matrix output from cellranger count\n",
        "Neutro3p = sc.read_10x_mtx(Path10x,var_names='gene_symbols',cache=True)\n",
        "Neutro3p"
      ]
    },
    {
      "cell_type": "code",
      "execution_count": null,
      "id": "8ac71801",
      "metadata": {
        "id": "8ac71801"
      },
      "outputs": [],
      "source": [
        "# These are the barcodes (n_obs) = 8000\n",
        "# This is the number set in --force-cells\n",
        "Neutro3p.obs"
      ]
    },
    {
      "cell_type": "code",
      "execution_count": null,
      "id": "46e6fbfa",
      "metadata": {
        "id": "46e6fbfa"
      },
      "outputs": [],
      "source": [
        "# These are the gene_ids (n_vars) = 36,601\n",
        "Neutro3p.var_names"
      ]
    },
    {
      "cell_type": "code",
      "execution_count": null,
      "id": "eda2e59e",
      "metadata": {
        "id": "eda2e59e"
      },
      "outputs": [],
      "source": [
        "Neutro3p_df = Neutro3p.to_df()\n",
        "Neutro3p_df.head()"
      ]
    },
    {
      "cell_type": "markdown",
      "id": "df4b7d06",
      "metadata": {
        "id": "df4b7d06"
      },
      "source": [
        "The earlier matrix was the full dataset.\n",
        "But we are only interested in neutrophils. So, we need to subset the matrix into only neutrophils\n",
        "First, we need to define which barcodes are associated with which cluster"
      ]
    },
    {
      "cell_type": "code",
      "execution_count": null,
      "id": "a7bf1e9e",
      "metadata": {
        "id": "a7bf1e9e"
      },
      "outputs": [],
      "source": [
        "# Filter Cells to only Neutrophils\n",
        "Neutro3p = Neutro3p[Neutrophils_BCs]\n",
        "\n",
        "# Add Clusters from Loupe to object\n",
        "Neutro3p.obs['Loupe'] = Clusters_Loupe\n",
        "\n",
        "# Add UMAP from Loupe to object\n",
        "Neutro3p.obsm[\"X_umap\"] = UMAP_Loupe"
      ]
    },
    {
      "cell_type": "markdown",
      "id": "a0240369",
      "metadata": {
        "id": "a0240369"
      },
      "source": [
        "You might get this warning below, but nothing to worry about.\n",
        "> Trying to set attribute `.obs` of view, copying.\n",
        "\n",
        "Next, read velocyto output and merge"
      ]
    },
    {
      "cell_type": "code",
      "execution_count": null,
      "id": "f6fee80a",
      "metadata": {
        "id": "f6fee80a"
      },
      "outputs": [],
      "source": [
        "# Read velocyto output\n",
        "VelNeutro3p = scv.read('./input-files/WB_Lysis_3p_Introns_8kCells.loom', cache=True)\n",
        "\n",
        "# Merge velocyto and cellranger outputs\n",
        "Neutro3p = scv.utils.merge(Neutro3p, VelNeutro3p)\n",
        "\n",
        "Neutro3p"
      ]
    },
    {
      "cell_type": "markdown",
      "id": "540b1436",
      "metadata": {
        "id": "540b1436"
      },
      "source": [
        "You might get this warning, but no need to worry:\n",
        "> Variable names are not unique. To make them unique, call `.var_names_make_unique`.\n",
        "\n",
        "Next, process dataset and obtain latent time values for each cell\n"
      ]
    },
    {
      "cell_type": "code",
      "execution_count": null,
      "id": "7a6e8fff",
      "metadata": {
        "id": "7a6e8fff"
      },
      "outputs": [],
      "source": [
        "# Standard scvelo processing to run Dynamical Mode\n",
        "scv.pp.filter_and_normalize(Neutro3p, min_shared_counts=30, n_top_genes=2000)\n",
        "scv.pp.moments(Neutro3p, n_pcs=30, n_neighbors=30)\n",
        "\n",
        "scv.tl.recover_dynamics(Neutro3p)\n",
        "scv.tl.velocity(Neutro3p, mode='dynamical')\n",
        "scv.tl.velocity_graph(Neutro3p)\n",
        "scv.tl.recover_latent_time(Neutro3p)\n",
        "\n",
        "Neutro3p"
      ]
    },
    {
      "cell_type": "code",
      "execution_count": null,
      "id": "5ba648d4",
      "metadata": {
        "id": "5ba648d4"
      },
      "outputs": [],
      "source": [
        "# velocity plo\n",
        "# default plotting parameters\n",
        "scv.pl.velocity_embedding_stream(Neutro3p,basis=\"umap\",color=\"Loupe\",title='Neutrophils',fontsize=20,legend_fontsize=20,min_mass=2,save='scVelo-umap-cluster.png')"
      ]
    },
    {
      "cell_type": "code",
      "execution_count": null,
      "id": "11fa9489",
      "metadata": {
        "id": "11fa9489"
      },
      "outputs": [],
      "source": [
        "scv.pl.velocity_embedding_stream(Neutro3p,basis=\"umap\",color=\"latent_time\",title='Neutrophils',fontsize=20,legend_fontsize=20,min_mass=2,color_map=\"plasma\",save='scVelo-umap-latent_time.png')"
      ]
    },
    {
      "cell_type": "code",
      "execution_count": null,
      "id": "16261baf",
      "metadata": {
        "id": "16261baf"
      },
      "outputs": [],
      "source": [
        "Genes=[\"RETN\",\"LTF\",\"CAMP\",\"ACTB\",\"GCA\",\"LCN2\",\n",
        "         \"S100A8\",\"MYL6\",\"S100A9\",\"FCGR3B\",\"S100A11\",\"FTH1\",\"IFIT1\",\n",
        "         \"IFITM3\",\"IFIT3\",\"ISG15\",\"IFIT2\",\"RPS9\",\"NEAT1\",\"MALAT1\",\"NFKBIA\",\"CXCL8\"]\n",
        "scv.pl.heatmap(Neutro3p, var_names=Genes, sortby='latent_time', col_color='Loupe', n_convolve=100,figsize=(16,8),yticklabels=True,sort=True,colorbar=True,show=True,layer=\"count\", save='scVelo-heatmap-latent_time.png')"
      ]
    },
    {
      "cell_type": "code",
      "execution_count": null,
      "id": "e570daf8",
      "metadata": {
        "id": "e570daf8"
      },
      "outputs": [],
      "source": [
        "sc.pl.violin(Neutro3p, keys='latent_time',groupby=\"Loupe\",order=[\"Cluster 4\",\"Cluster 1\",\"Cluster 5\",\"Cluster 6\",\"Cluster 7\",\"Cluster 3\",\"Cluster 2\"], save='scVelo-violin-latent_time.png')"
      ]
    },
    {
      "cell_type": "markdown",
      "id": "73c4d6d6",
      "metadata": {
        "id": "73c4d6d6"
      },
      "source": [
        "This chunk of code below is used to customize colors for the cluster and plot sizes"
      ]
    },
    {
      "cell_type": "code",
      "execution_count": null,
      "id": "5bc6705f",
      "metadata": {
        "id": "5bc6705f"
      },
      "outputs": [],
      "source": [
        "# Customize parameters for plots (Size, Color, etc)\n",
        "# let's set these to improve our plots\n",
        "scv.set_figure_params(style=\"scvelo\")\n",
        "pl.rcParams[\"figure.figsize\"] = (10,10)\n",
        "Colorss=[\"#E41A1C\",\"#377EB8\",\"#4DAF4A\",\"#984EA3\",\"#FF7F00\",\"#FFFF33\",\"#A65628\",\"#F781BF\"]"
      ]
    },
    {
      "cell_type": "code",
      "execution_count": null,
      "id": "66386244",
      "metadata": {
        "id": "66386244"
      },
      "outputs": [],
      "source": [
        "scv.pl.velocity_embedding_stream(Neutro3p,basis=\"umap\",color=\"Loupe\",title='Neutrophils',fontsize=20,legend_fontsize=20,min_mass=2,palette=Colorss,save='scVelo-umap-cluster.png')"
      ]
    },
    {
      "cell_type": "code",
      "execution_count": null,
      "id": "cb6cafed",
      "metadata": {
        "id": "cb6cafed"
      },
      "outputs": [],
      "source": [
        "scv.pl.velocity_embedding_stream(Neutro3p,basis=\"umap\",color=\"latent_time\",title='Neutrophils',fontsize=20,legend_fontsize=20,min_mass=2,color_map=\"plasma\",save='scVelo-umap-latent_time.png')"
      ]
    },
    {
      "cell_type": "code",
      "execution_count": null,
      "id": "f6e394d0",
      "metadata": {
        "id": "f6e394d0"
      },
      "outputs": [],
      "source": [
        "scv.pl.heatmap(Neutro3p, var_names=Genes, sortby='latent_time', col_color='Loupe', n_convolve=100,figsize=(8,6),yticklabels=True,sort=True,colorbar=True,show=True,layer=\"count\", save='scVelo-heatmap-latent_time.png')"
      ]
    },
    {
      "cell_type": "code",
      "execution_count": null,
      "id": "8f3ba995",
      "metadata": {
        "id": "8f3ba995"
      },
      "outputs": [],
      "source": [
        "sc.pl.violin(Neutro3p, keys='latent_time',groupby=\"Loupe\",order=[\"Cluster 4\",\"Cluster 1\",\"Cluster 5\",\"Cluster 6\",\"Cluster 7\",\"Cluster 3\",\"Cluster 2\"], save='scVelo-violin-latent_time.png')"
      ]
    },
    {
      "cell_type": "markdown",
      "id": "315a3dc4",
      "metadata": {
        "id": "315a3dc4"
      },
      "source": [
        "For additional information on analysis using this [10x neutrophils dataset](https://www.10xgenomics.com/resources/datasets/whole-blood-rbc-lysis-for-pbmcs-neutrophils-granulocytes-3-3-1-standard), please see this Tech Note, [Neutrophil Analysis in 10x Genomics Single Cell Gene Expression Assays](https://www.10xgenomics.com/support/single-cell-gene-expression/documentation/steps/sample-prep/neutrophil-analysis-in-10-x-genomics-single-cell-gene-expression-assays)"
      ]
    }
  ],
  "metadata": {
    "kernelspec": {
      "display_name": "Python 3 (ipykernel)",
      "language": "python",
      "name": "python3"
    },
    "language_info": {
      "codemirror_mode": {
        "name": "ipython",
        "version": 3
      },
      "file_extension": ".py",
      "mimetype": "text/x-python",
      "name": "python",
      "nbconvert_exporter": "python",
      "pygments_lexer": "ipython3",
      "version": "3.12.0"
    },
    "colab": {
      "provenance": [],
      "include_colab_link": true
    }
  },
  "nbformat": 4,
  "nbformat_minor": 5
}